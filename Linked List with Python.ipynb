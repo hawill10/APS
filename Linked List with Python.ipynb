{
 "cells": [
  {
   "cell_type": "markdown",
   "metadata": {},
   "source": [
    "## 노드 구현하기"
   ]
  },
  {
   "cell_type": "code",
   "execution_count": 1,
   "metadata": {},
   "outputs": [],
   "source": [
    "# node class\n",
    "class Node:\n",
    "    def __init__(self, data, next=None):\n",
    "        self.data = data\n",
    "        self.next = next"
   ]
  },
  {
   "cell_type": "code",
   "execution_count": 2,
   "metadata": {},
   "outputs": [],
   "source": [
    "# create nodes\n",
    "node1 = Node(1)\n",
    "node2 = Node(2)"
   ]
  },
  {
   "cell_type": "code",
   "execution_count": 3,
   "metadata": {},
   "outputs": [],
   "source": [
    "# head of linked list\n",
    "head = node1\n",
    "\n",
    "# link two nodes\n",
    "node1.next = node2"
   ]
  },
  {
   "cell_type": "markdown",
   "metadata": {},
   "source": [
    "## 링크드 리스트 구현하기"
   ]
  },
  {
   "cell_type": "code",
   "execution_count": 17,
   "metadata": {},
   "outputs": [],
   "source": [
    "# linked list class\n",
    "class LinkedList:\n",
    "    def __init__(self, head = None):\n",
    "        self.head = head\n",
    "    \n",
    "    def add(self, data):\n",
    "        if not self.head:\n",
    "            self.head = Node(data)\n",
    "        else:\n",
    "            current_node = self.head\n",
    "            \n",
    "            # 마지막 데이터까지 순회\n",
    "            while current_node.next:\n",
    "                current_node = current_node.next\n",
    "                \n",
    "            new_node = Node(data)\n",
    "            current_node.next = new_node\n",
    "        \n",
    "        print(\"성공적으로 추가하였습니다\")\n",
    "    \n",
    "    def print_list(self):\n",
    "        if not self.head:\n",
    "            print(\"Empty Linked List\")\n",
    "            return\n",
    "        \n",
    "        current_node = self.head\n",
    "        \n",
    "        while True:\n",
    "            print(current_node.data, end=\" -> \")\n",
    "            if current_node.next:\n",
    "                current_node = current_node.next\n",
    "            else:\n",
    "                break\n",
    "                \n",
    "        print(\"(End)\")"
   ]
  },
  {
   "cell_type": "code",
   "execution_count": 18,
   "metadata": {},
   "outputs": [],
   "source": [
    "linked_list = LinkedList()"
   ]
  },
  {
   "cell_type": "code",
   "execution_count": 19,
   "metadata": {},
   "outputs": [
    {
     "name": "stdout",
     "output_type": "stream",
     "text": [
      "Empty Linked List\n"
     ]
    }
   ],
   "source": [
    "linked_list.print_list()"
   ]
  },
  {
   "cell_type": "code",
   "execution_count": 20,
   "metadata": {},
   "outputs": [
    {
     "name": "stdout",
     "output_type": "stream",
     "text": [
      "성공적으로 추가하였습니다\n"
     ]
    }
   ],
   "source": [
    "linked_list.add(3)"
   ]
  },
  {
   "cell_type": "code",
   "execution_count": 21,
   "metadata": {},
   "outputs": [
    {
     "name": "stdout",
     "output_type": "stream",
     "text": [
      "3 -> (End)\n"
     ]
    }
   ],
   "source": [
    "linked_list.print_list()"
   ]
  },
  {
   "cell_type": "code",
   "execution_count": 22,
   "metadata": {},
   "outputs": [
    {
     "name": "stdout",
     "output_type": "stream",
     "text": [
      "성공적으로 추가하였습니다\n",
      "성공적으로 추가하였습니다\n",
      "성공적으로 추가하였습니다\n",
      "성공적으로 추가하였습니다\n",
      "성공적으로 추가하였습니다\n",
      "성공적으로 추가하였습니다\n",
      "성공적으로 추가하였습니다\n",
      "성공적으로 추가하였습니다\n",
      "성공적으로 추가하였습니다\n",
      "성공적으로 추가하였습니다\n",
      "3 -> 0 -> 1 -> 2 -> 3 -> 4 -> 5 -> 6 -> 7 -> 8 -> 9 -> (End)\n"
     ]
    }
   ],
   "source": [
    "for i in range(10):\n",
    "    linked_list.add(i)\n",
    "\n",
    "linked_list.print_list()"
   ]
  },
  {
   "cell_type": "code",
   "execution_count": null,
   "metadata": {},
   "outputs": [],
   "source": []
  }
 ],
 "metadata": {
  "kernelspec": {
   "display_name": "Python 3",
   "language": "python",
   "name": "python3"
  },
  "language_info": {
   "codemirror_mode": {
    "name": "ipython",
    "version": 3
   },
   "file_extension": ".py",
   "mimetype": "text/x-python",
   "name": "python",
   "nbconvert_exporter": "python",
   "pygments_lexer": "ipython3",
   "version": "3.8.9"
  }
 },
 "nbformat": 4,
 "nbformat_minor": 4
}
